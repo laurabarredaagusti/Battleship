{
 "cells": [
  {
   "cell_type": "markdown",
   "metadata": {},
   "source": [
    "**CLASS BOARD**\n",
    "\n",
    "**init** --> función que crea el tablero y lanza las funciones para establecer el username, imprimir el tablero y definir el modo de colocar los barcos.\n",
    "\n",
    "**set_username** --> Función que le da la bienvenida al jugador y le pide que defina su nombre de usuario.\n",
    "\n",
    "**define_print_board** --> Función que imprime el tablero junto al username.\n",
    "\n",
    "**define_placing_boats_mode** --> Función que deja al usuario decidir entre colocar los barcos manualmente o random.\n",
    "\n",
    "**choose_boat_manual** --> Función que permite al usuario elegir un barco manualmente.\n",
    "\n",
    "**choose_boat_random** --> Función que elige un barco random para su colocación.\n",
    "\n",
    "**define_boat_first_coordinate_manual** --> Función que permite al usuario definir la primera coordenada para la colocación manual. \n",
    "\n",
    "**define_boat_first_coordinate_random** --> Función que define la primera coordenada para la colocación del barco de forma random.\n",
    "\n",
    "**choose_direction_manual** --> Función que permite definir la dirección del barco de forma manual.\n",
    "\n",
    "**choose_direction_random** --> Función que define una dirección random para el barco.\n",
    "\n",
    "**define_boat_position** --> Función que define las coordenadas del barco\n",
    "\n",
    "**place_boat** --> Función que comprueba si hay algún barco en la posición y, si no, lo coloca.\n",
    "\n",
    "**place_octopus_random** --> Función que coloca la figura del pulpo de forma aleatoria.\n"
   ]
  },
  {
   "cell_type": "markdown",
   "metadata": {},
   "source": [
    "**CLASS SHOOT**\n",
    "\n",
    "**play_boat_sound** --> Función que reproduce el sonido de disparar a un barco\n",
    "\n",
    "**play_water_sound** --> Función que reproduce el sonido de disparar al agua\n",
    "\n",
    "**play_octopus_sound** --> Función que reproduce el sonido de disparar al pulpo\n",
    "\n",
    "**define_shooting_mode** --> Función que permite al usuario decidir si quiere que su target sea manual o random\n",
    "\n"
   ]
  },
  {
   "cell_type": "markdown",
   "metadata": {},
   "source": []
  }
 ],
 "metadata": {
  "kernelspec": {
   "display_name": "Python 3.7.4 64-bit",
   "language": "python",
   "name": "python3"
  },
  "language_info": {
   "name": "python",
   "version": "3.7.4"
  },
  "orig_nbformat": 4,
  "vscode": {
   "interpreter": {
    "hash": "aee8b7b246df8f9039afb4144a1f6fd8d2ca17a180786b69acc140d282b71a49"
   }
  }
 },
 "nbformat": 4,
 "nbformat_minor": 2
}
